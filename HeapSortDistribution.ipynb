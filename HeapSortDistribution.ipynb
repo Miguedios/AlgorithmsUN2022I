{
  "nbformat": 4,
  "nbformat_minor": 0,
  "metadata": {
    "colab": {
      "name": "HeapSortDistribution",
      "provenance": [],
      "authorship_tag": "ABX9TyO0blsFCUqsruU4AD7y3IBu",
      "include_colab_link": true
    },
    "kernelspec": {
      "name": "python3",
      "display_name": "Python 3"
    },
    "language_info": {
      "name": "python"
    }
  },
  "cells": [
    {
      "cell_type": "markdown",
      "metadata": {
        "id": "view-in-github",
        "colab_type": "text"
      },
      "source": [
        "<a href=\"https://colab.research.google.com/github/Miguedios/AlgorithmsUN2022I/blob/main/HeapSortDistribution.ipynb\" target=\"_parent\"><img src=\"https://colab.research.google.com/assets/colab-badge.svg\" alt=\"Open In Colab\"/></a>"
      ]
    },
    {
      "cell_type": "code",
      "execution_count": 1,
      "metadata": {
        "id": "Z8nr7j6TyBmm"
      },
      "outputs": [],
      "source": [
        "def heapify(arr, n, i):\n",
        "    largest = i  # Initialize largest as root\n",
        "    l = 2 * i + 1     # left = 2*i + 1\n",
        "    r = 2 * i + 2     # right = 2*i + 2\n",
        "  \n",
        "    # See if left child of root exists and is\n",
        "    # greater than root\n",
        "    if l < n and arr[largest] < arr[l]:\n",
        "        largest = l\n",
        "  \n",
        "    # See if right child of root exists and is\n",
        "    # greater than root\n",
        "    if r < n and arr[largest] < arr[r]:\n",
        "        largest = r\n",
        "  \n",
        "    # Change root, if needed\n",
        "    if largest != i:\n",
        "        arr[i], arr[largest] = arr[largest], arr[i]  # swap\n",
        "  \n",
        "        # Heapify the root.\n",
        "        heapify(arr, n, largest)\n",
        "  \n",
        "# The main function to sort an array of given size\n",
        "  \n",
        "  \n",
        "def heap_sort(arr):\n",
        "    n = len(arr)\n",
        "  \n",
        "    # Build a maxheap.\n",
        "    for i in range(n//2 - 1, -1, -1):\n",
        "        heapify(arr, n, i)\n",
        "  \n",
        "    # One by one extract elements\n",
        "    for i in range(n-1, 0, -1):\n",
        "        arr[i], arr[0] = arr[0], arr[i]  # swap\n",
        "        heapify(arr, i, 0)"
      ]
    },
    {
      "cell_type": "code",
      "source": [
        "A = [1,2,3,4,5,6,7,8]\n",
        "heap_sort(A)\n",
        "print(A)\n",
        "\n",
        "A = [6,7,2,5,4,3,8,1]\n",
        "heap_sort(A)\n",
        "print(A)\n",
        "\n",
        "A = [8,7,6,5,4,3,2,1]\n",
        "heap_sort(A)\n",
        "print(A)"
      ],
      "metadata": {
        "colab": {
          "base_uri": "https://localhost:8080/"
        },
        "id": "qnaKbWv2yOv-",
        "outputId": "77c5daae-84a1-476f-a631-8d50c996622b"
      },
      "execution_count": 2,
      "outputs": [
        {
          "output_type": "stream",
          "name": "stdout",
          "text": [
            "[1, 2, 3, 4, 5, 6, 7, 8]\n",
            "[1, 2, 3, 4, 5, 6, 7, 8]\n",
            "[1, 2, 3, 4, 5, 6, 7, 8]\n"
          ]
        }
      ]
    },
    {
      "cell_type": "code",
      "source": [
        "import numpy as np\n",
        "import matplotlib.pyplot as plt\n",
        "import time \n",
        "\n",
        "sizes = np.arange(1,200,1)\n",
        "results_insertion = []\n",
        "for i in sizes:\n",
        "    list1 = list(range(i))\n",
        "    tic = time.time() \n",
        "    heap_sort(list1)\n",
        "    toc = time.time() \n",
        "    timesum = toc - tic\n",
        "    results_insertion.append(timesum) \n",
        "plt.plot(sizes, results_insertion, 'bx', label = 'Heap sort')\n",
        "plt.xlabel('Array size')\n",
        "plt.ylabel('Seconds')\n",
        "plt.legend(loc = 'upper left')"
      ],
      "metadata": {
        "colab": {
          "base_uri": "https://localhost:8080/",
          "height": 296
        },
        "id": "2G8YfyURyRME",
        "outputId": "40bf9389-a695-454c-f240-704385cc4a9b"
      },
      "execution_count": 3,
      "outputs": [
        {
          "output_type": "execute_result",
          "data": {
            "text/plain": [
              "<matplotlib.legend.Legend at 0x7f8be93a6a10>"
            ]
          },
          "metadata": {},
          "execution_count": 3
        },
        {
          "output_type": "display_data",
          "data": {
            "text/plain": [
              "<Figure size 432x288 with 1 Axes>"
            ],
            "image/png": "[encoded data removed]"
          },
          "metadata": {
            "needs_background": "light"
          }
        }
      ]
    },
    {
      "cell_type": "code",
      "source": [
        "import numpy as np\n",
        "import matplotlib.pyplot as plt\n",
        "import time \n",
        "\n",
        "sizes = np.arange(1,200,1)\n",
        "results_insertion = []\n",
        "for i in sizes:\n",
        "    list1 = list(range(i,1,-1))\n",
        "    tic = time.time() \n",
        "    heap_sort(list1)\n",
        "    toc = time.time() \n",
        "    timesum = toc - tic\n",
        "    results_insertion.append(timesum) \n",
        "plt.plot(sizes, results_insertion, 'bx', label = 'Heap sort')\n",
        "plt.xlabel('Array size')\n",
        "plt.ylabel('Seconds')\n",
        "plt.legend(loc = 'upper left')"
      ],
      "metadata": {
        "colab": {
          "base_uri": "https://localhost:8080/",
          "height": 300
        },
        "id": "bT9O1jpqyUws",
        "outputId": "b9490f01-d173-44b7-a3e3-58f31e649568"
      },
      "execution_count": 4,
      "outputs": [
        {
          "output_type": "execute_result",
          "data": {
            "text/plain": [
              "<matplotlib.legend.Legend at 0x7f8bf1a6f8d0>"
            ]
          },
          "metadata": {},
          "execution_count": 4
        },
        {
          "output_type": "display_data",
          "data": {
            "text/plain": [
              "<Figure size 432x288 with 1 Axes>"
            ],
            "image/png": "[encoded data removed]"
          },
          "metadata": {
            "needs_background": "light"
          }
        }
      ]
    },
    {
      "cell_type": "code",
      "source": [
        "import numpy as np\n",
        "import matplotlib.pyplot as plt\n",
        "import time \n",
        "import random as rnd\n",
        "\n",
        "sizes = np.arange(1,200,1)\n",
        "results_insertion = []\n",
        "sizes_insertion = []\n",
        "for i in sizes:\n",
        "  for j in range(20):\n",
        "    list1 = list(range(i))\n",
        "    rnd.shuffle(list1)\n",
        "    tic = time.time() \n",
        "    heap_sort(list1)\n",
        "    toc = time.time() \n",
        "    timesum = toc - tic\n",
        "    results_insertion.append(timesum) \n",
        "    sizes_insertion.append(i) \n",
        "plt.plot(sizes_insertion, results_insertion, 'bx', label = 'Heap sort')\n",
        "plt.xlabel('Array size')\n",
        "plt.ylabel('Seconds')\n",
        "plt.legend(loc = 'upper left')"
      ],
      "metadata": {
        "colab": {
          "base_uri": "https://localhost:8080/",
          "height": 299
        },
        "id": "PD9eB-HYyXvU",
        "outputId": "7ef09aa9-84c4-4d69-fee1-25257ebc04a0"
      },
      "execution_count": 5,
      "outputs": [
        {
          "output_type": "execute_result",
          "data": {
            "text/plain": [
              "<matplotlib.legend.Legend at 0x7f8be8e5ffd0>"
            ]
          },
          "metadata": {},
          "execution_count": 5
        },
        {
          "output_type": "display_data",
          "data": {
            "text/plain": [
              "<Figure size 432x288 with 1 Axes>"
            ],
            "image/png": "[encoded data removed]"
          },
          "metadata": {
            "needs_background": "light"
          }
        }
      ]
    },
    {
      "cell_type": "code",
      "source": [
        "import numpy as np\n",
        "import matplotlib.pyplot as plt\n",
        "import time \n",
        "import random as rnd\n",
        "\n",
        "sizes = np.arange(1,21,1)\n",
        "results_insertion = []\n",
        "sizes_insertion = []\n",
        "for i in sizes:\n",
        "\n",
        "  list1 = list(range(i))\n",
        "  tic = time.time() \n",
        "  heap_sort(list1)\n",
        "  toc = time.time() \n",
        "  timesum = toc - tic\n",
        "  results_insertion.append(timesum) \n",
        "  sizes_insertion.append(i) \n",
        "  \n",
        "  list1 = list(range(i,1,-1))\n",
        "  tic = time.time() \n",
        "  heap_sort(list1)\n",
        "  toc = time.time() \n",
        "  timesum = toc - tic\n",
        "  results_insertion.append(timesum) \n",
        "  sizes_insertion.append(i) \n",
        "  \n",
        "  for j in range(23):\n",
        "    list1 = list(range(i))\n",
        "    rnd.shuffle(list1)\n",
        "    tic = time.time() \n",
        "    heap_sort(list1)\n",
        "    toc = time.time() \n",
        "    timesum = toc - tic\n",
        "    results_insertion.append(timesum) \n",
        "    sizes_insertion.append(i) \n",
        "\n",
        "plt.plot(sizes_insertion, results_insertion, 'bx', label = 'Heap sort')\n",
        "plt.xlabel('Array size')\n",
        "plt.ylabel('Seconds')\n",
        "plt.legend(loc = 'upper left')"
      ],
      "metadata": {
        "colab": {
          "base_uri": "https://localhost:8080/",
          "height": 300
        },
        "id": "lHef32Eqydul",
        "outputId": "9b242423-e70c-4822-8d6f-c445d3242152"
      },
      "execution_count": 6,
      "outputs": [
        {
          "output_type": "execute_result",
          "data": {
            "text/plain": [
              "<matplotlib.legend.Legend at 0x7f8be8d97c10>"
            ]
          },
          "metadata": {},
          "execution_count": 6
        },
        {
          "output_type": "display_data",
          "data": {
            "text/plain": [
              "<Figure size 432x288 with 1 Axes>"
            ],
            "image/png": "[encoded data removed]"
          },
          "metadata": {
            "needs_background": "light"
          }
        }
      ]
    },
    {
      "cell_type": "code",
      "source": [
        "import numpy as np\n",
        "import matplotlib.pyplot as plt\n",
        "import time \n",
        "import random as rnd\n",
        "\n",
        "sizes = np.arange(1,200,1)\n",
        "results_insertion = []\n",
        "sizes_insertion = []\n",
        "for i in sizes:\n",
        "\n",
        "  list1 = list(range(i))\n",
        "  tic = time.time() \n",
        "  heap_sort(list1)\n",
        "  toc = time.time() \n",
        "  timesum = toc - tic\n",
        "  results_insertion.append(timesum) \n",
        "  sizes_insertion.append(i) \n",
        "  \n",
        "  list1 = list(range(i,1,-1))\n",
        "  tic = time.time() \n",
        "  heap_sort(list1)\n",
        "  toc = time.time() \n",
        "  timesum = toc - tic\n",
        "  results_insertion.append(timesum) \n",
        "  sizes_insertion.append(i) \n",
        "  \n",
        "  for j in range(20):\n",
        "    list1 = list(range(i))\n",
        "    rnd.shuffle(list1)\n",
        "    tic = time.time() \n",
        "    heap_sort(list1)\n",
        "    toc = time.time() \n",
        "    timesum = toc - tic\n",
        "    results_insertion.append(timesum) \n",
        "    sizes_insertion.append(i) \n",
        "\n",
        "plt.plot(sizes_insertion, results_insertion, 'bx', label = 'Heap sort')\n",
        "plt.xlabel('Array size')\n",
        "plt.ylabel('Seconds')\n",
        "plt.legend(loc = 'upper left')"
      ],
      "metadata": {
        "colab": {
          "base_uri": "https://localhost:8080/",
          "height": 296
        },
        "id": "k_zDFSOyyiAU",
        "outputId": "94184619-456b-428c-aa0f-eac1166e91a7"
      },
      "execution_count": 7,
      "outputs": [
        {
          "output_type": "execute_result",
          "data": {
            "text/plain": [
              "<matplotlib.legend.Legend at 0x7f8be939a0d0>"
            ]
          },
          "metadata": {},
          "execution_count": 7
        },
        {
          "output_type": "display_data",
          "data": {
            "text/plain": [
              "<Figure size 432x288 with 1 Axes>"
            ],
            "image/png": "[encoded data removed]"
          },
          "metadata": {
            "needs_background": "light"
          }
        }
      ]
    },
    {
      "cell_type": "code",
      "source": [
        "import matplotlib.pyplot as plt\n",
        "import numpy as np\n",
        "\n",
        "n = np.arange(1,21,1)\n",
        "y = np.log(n)\n",
        "\n",
        "plt.plot(n, n*y, label = 'Heap sort best time $(n \\cdot log n)$')\n",
        "plt.plot(n, n*y , label = 'Heap average time $(n \\cdot log n)$')\n",
        "plt.plot(n, n*y, label = 'Heap worst time $(n \\cdot log n)$')\n",
        "plt.xlabel('Array size')\n",
        "plt.ylabel('Steps')\n",
        "plt.legend(loc = 'upper left')"
      ],
      "metadata": {
        "colab": {
          "base_uri": "https://localhost:8080/",
          "height": 296
        },
        "id": "hz6sQcNVyjLv",
        "outputId": "fcc274bb-fed1-48bf-9f57-67c43e90024b"
      },
      "execution_count": 8,
      "outputs": [
        {
          "output_type": "execute_result",
          "data": {
            "text/plain": [
              "<matplotlib.legend.Legend at 0x7f8be8c6fcd0>"
            ]
          },
          "metadata": {},
          "execution_count": 8
        },
        {
          "output_type": "display_data",
          "data": {
            "text/plain": [
              "<Figure size 432x288 with 1 Axes>"
            ],
            "image/png": "[encoded data removed]"
          },
          "metadata": {
            "needs_background": "light"
          }
        }
      ]
    },
    {
      "cell_type": "code",
      "source": [
        "def heapifySteps(arr, n, i):\n",
        "    steps = 0\n",
        "    largest = i \n",
        "    l = 2 * i + 1     \n",
        "    r = 2 * i + 2\n",
        "    steps += 3     \n",
        "  \n",
        "    if l < n and arr[i] < arr[l]:\n",
        "        largest = l\n",
        "        steps += 1\n",
        "    \n",
        "    if r < n and arr[largest] < arr[r]:\n",
        "        largest = r\n",
        "        steps += 1\n",
        "    steps += 2\n",
        "    if largest != i:\n",
        "        arr[i],arr[largest] = arr[largest],arr[i]  \n",
        "        steps += heapifySteps(arr, n, largest) \n",
        "    #print(\"Inside: \" , counter)\n",
        "    return steps\n",
        "\n",
        "def heap_sort_steps(A):\n",
        "    n = len(A)\n",
        "\n",
        "    steps = 0\n",
        "    # Build a maxheap.\n",
        "    for i in range(n//2 - 1, -1, -1):\n",
        "        steps += heapifySteps(A, n, i) + 1\n",
        "  \n",
        "    # One by one extract elements\n",
        "    for i in range(n-1, 0, -1):\n",
        "        A[i], A[0] = A[0], A[i]  # swap\n",
        "        steps += heapifySteps(A, i, 0) + 1\n",
        "    return steps"
      ],
      "metadata": {
        "id": "oLeONV3Dylcc"
      },
      "execution_count": 9,
      "outputs": []
    },
    {
      "cell_type": "code",
      "source": [
        "A = [1,2,3,4,5,6,7,8]\n",
        "print(heap_sort_steps(A))\n",
        "print(A)\n",
        "\n",
        "A = [6,7,2,4,5,3,8,1]\n",
        "print(heap_sort_steps(A))\n",
        "print(A)\n",
        "\n",
        "A = [8,7,6,5,4,3,2,1]\n",
        "print(heap_sort_steps(A))\n",
        "print(A)"
      ],
      "metadata": {
        "colab": {
          "base_uri": "https://localhost:8080/"
        },
        "id": "zq6M6fGqypad",
        "outputId": "4b29f693-b60d-487f-91db-07b3ce52344c"
      },
      "execution_count": 10,
      "outputs": [
        {
          "output_type": "stream",
          "name": "stdout",
          "text": [
            "161\n",
            "[1, 2, 3, 4, 5, 6, 7, 8]\n",
            "143\n",
            "[1, 2, 3, 4, 5, 6, 7, 8]\n",
            "122\n",
            "[1, 2, 3, 4, 5, 6, 7, 8]\n"
          ]
        }
      ]
    },
    {
      "cell_type": "code",
      "source": [
        "from itertools import permutations\n",
        " \n",
        "n = 3\n",
        "perm = permutations(range(1,n+1))\n",
        "\n",
        "ls =  [] \n",
        "# Print the obtained permutations\n",
        "for i in list(perm):\n",
        "   print(i)"
      ],
      "metadata": {
        "colab": {
          "base_uri": "https://localhost:8080/"
        },
        "id": "_hoE96oDyrwx",
        "outputId": "8d99fc77-b762-4ca4-9fba-fdb840d86d60"
      },
      "execution_count": 11,
      "outputs": [
        {
          "output_type": "stream",
          "name": "stdout",
          "text": [
            "(1, 2, 3)\n",
            "(1, 3, 2)\n",
            "(2, 1, 3)\n",
            "(2, 3, 1)\n",
            "(3, 1, 2)\n",
            "(3, 2, 1)\n"
          ]
        }
      ]
    },
    {
      "cell_type": "code",
      "source": [
        "from itertools import permutations\n",
        "import matplotlib.pyplot as plt\n",
        "import numpy as np\n",
        "import math\n",
        "\n",
        "n=3\n",
        "X = range(n)\n",
        "times = []\n",
        "\n",
        "for P in permutations(X):\n",
        "  t = heap_sort_steps(list(P)) \n",
        "  times.append(t)  \n",
        "b = np.array(range(min(times)-1, max(times)+1))+0.5\n",
        "plt.hist(times, bins = b )\n",
        "plt.title(\"Insetion Sort\")\n",
        "plt.xlabel(\"Steps\")\n",
        "plt.ylabel(\"Frequency\")\n",
        "plt.show()\n",
        "    \n",
        "print(\"n\",n)\n",
        "print(\"number of permutations n! =\",math.factorial(n)) \n",
        "print(\"exp min =\",min(times))\n",
        "print(\"min formula 5*n-4 =\",5*n-4)\n",
        "print(\"exp max =\",max(times))\n",
        "print(\"max formula 3/2*n**2+7/2*n-4 =\",3/2*n**2+7/2*n-4)\n",
        "print(\"exp mean =\",np.mean(times))\n",
        "print(\"mean formula 3/4*n**2+17/4*n-4 =\",3/4*n**2+17/4*n-4)\n",
        "print(\"stdev\",np.std(times))"
      ],
      "metadata": {
        "colab": {
          "base_uri": "https://localhost:8080/",
          "height": 451
        },
        "id": "BXWS8hJByuKF",
        "outputId": "8c8f41a8-fa78-48a2-fc70-08ed0101412c"
      },
      "execution_count": 12,
      "outputs": [
        {
          "output_type": "display_data",
          "data": {
            "text/plain": [
              "<Figure size 432x288 with 1 Axes>"
            ],
            "image/png": "[encoded data removed]"
          },
          "metadata": {
            "needs_background": "light"
          }
        },
        {
          "output_type": "stream",
          "name": "stdout",
          "text": [
            "n 3\n",
            "number of permutations n! = 6\n",
            "exp min = 18\n",
            "min formula 5*n-4 = 11\n",
            "exp max = 31\n",
            "max formula 3/2*n**2+7/2*n-4 = 20.0\n",
            "exp mean = 25.166666666666668\n",
            "mean formula 3/4*n**2+17/4*n-4 = 15.5\n",
            "stdev 4.336537277085896\n"
          ]
        }
      ]
    },
    {
      "cell_type": "code",
      "source": [
        "from itertools import permutations\n",
        "import matplotlib.pyplot as plt\n",
        "import numpy as np\n",
        "import math\n",
        "\n",
        "n=4\n",
        "X = range(n)\n",
        "times = []\n",
        "\n",
        "for P in permutations(X):\n",
        "  t = heap_sort_steps(list(P)) \n",
        "  times.append(t)  \n",
        "\n",
        "b = np.array(range(min(times)-1, max(times)+1))+0.5\n",
        "plt.hist(times, bins = b )\n",
        "plt.title(\"Insetion Sort\")\n",
        "plt.xlabel(\"Steps\")\n",
        "plt.ylabel(\"Frequency\")\n",
        "plt.show()\n",
        "    \n",
        "print(\"n\",n)\n",
        "print(\"number of permutations n! =\",math.factorial(n)) \n",
        "print(\"exp min =\",min(times))\n",
        "print(\"min formula 5*n-4 =\",5*n-4)\n",
        "print(\"exp max =\",max(times))\n",
        "print(\"max formula 3/2*n**2+7/2*n-4 =\",3/2*n**2+7/2*n-4)\n",
        "print(\"exp mean =\",np.mean(times))\n",
        "print(\"mean formula 3/4*n**2+17/4*n-4 =\",3/4*n**2+17/4*n-4)\n",
        "print(\"stdev\",np.std(times))"
      ],
      "metadata": {
        "colab": {
          "base_uri": "https://localhost:8080/",
          "height": 451
        },
        "id": "3WrrMYioyxZs",
        "outputId": "927fcc73-a6fa-4f38-f39f-a6a5c4893243"
      },
      "execution_count": 13,
      "outputs": [
        {
          "output_type": "display_data",
          "data": {
            "text/plain": [
              "<Figure size 432x288 with 1 Axes>"
            ],
            "image/png": "[encoded data removed]"
          },
          "metadata": {
            "needs_background": "light"
          }
        },
        {
          "output_type": "stream",
          "name": "stdout",
          "text": [
            "n 4\n",
            "number of permutations n! = 24\n",
            "exp min = 36\n",
            "min formula 5*n-4 = 16\n",
            "exp max = 61\n",
            "max formula 3/2*n**2+7/2*n-4 = 34.0\n",
            "exp mean = 49.5\n",
            "mean formula 3/4*n**2+17/4*n-4 = 25.0\n",
            "stdev 6.020797289396148\n"
          ]
        }
      ]
    },
    {
      "cell_type": "code",
      "source": [
        "from itertools import permutations\n",
        "import matplotlib.pyplot as plt\n",
        "import numpy as np\n",
        "import math\n",
        "\n",
        "n=5\n",
        "X = range(n)\n",
        "times = []\n",
        "\n",
        "for P in permutations(X):\n",
        "  t = heap_sort_steps(list(P)) \n",
        "  times.append(t)  \n",
        "\n",
        "b = np.array(range(min(times)-1, max(times)+1))+0.5\n",
        "plt.hist(times, bins = b )\n",
        "plt.title(\"Insetion Sort\")\n",
        "plt.xlabel(\"Steps\")\n",
        "plt.ylabel(\"Frequency\")\n",
        "plt.show()\n",
        "    \n",
        "print(\"n\",n)\n",
        "print(\"number of permutations n! =\",math.factorial(n)) \n",
        "print(\"exp min =\",min(times))\n",
        "print(\"min formula 5*n-4 =\",5*n-4)\n",
        "print(\"exp max =\",max(times))\n",
        "print(\"max formula 3/2*n**2+7/2*n-4 =\",3/2*n**2+7/2*n-4)\n",
        "print(\"exp mean =\",np.mean(times))\n",
        "print(\"mean formula 3/4*n**2+17/4*n-4 =\",3/4*n**2+17/4*n-4)\n",
        "print(\"stdev\",np.std(times))"
      ],
      "metadata": {
        "colab": {
          "base_uri": "https://localhost:8080/",
          "height": 451
        },
        "id": "tszoRquqy1L2",
        "outputId": "21e07231-8d3d-4e95-b3f4-6f63c4a02067"
      },
      "execution_count": 14,
      "outputs": [
        {
          "output_type": "display_data",
          "data": {
            "text/plain": [
              "<Figure size 432x288 with 1 Axes>"
            ],
            "image/png": "[encoded data removed]"
          },
          "metadata": {
            "needs_background": "light"
          }
        },
        {
          "output_type": "stream",
          "name": "stdout",
          "text": [
            "n 5\n",
            "number of permutations n! = 120\n",
            "exp min = 48\n",
            "min formula 5*n-4 = 21\n",
            "exp max = 80\n",
            "max formula 3/2*n**2+7/2*n-4 = 51.0\n",
            "exp mean = 66.11666666666666\n",
            "mean formula 3/4*n**2+17/4*n-4 = 36.0\n",
            "stdev 7.029916231522409\n"
          ]
        }
      ]
    },
    {
      "cell_type": "code",
      "source": [
        "from itertools import permutations\n",
        "import matplotlib.pyplot as plt\n",
        "import numpy as np\n",
        "import math\n",
        "\n",
        "n=6\n",
        "X = range(n)\n",
        "times = []\n",
        "\n",
        "for P in permutations(X):\n",
        "  t = heap_sort_steps(list(P)) \n",
        "  times.append(t)  \n",
        "\n",
        "b = np.array(range(min(times)-1, max(times)+1))+0.5\n",
        "plt.hist(times, bins = b )\n",
        "plt.title(\"Insetion Sort\")\n",
        "plt.xlabel(\"Steps\")\n",
        "plt.ylabel(\"Frequency\")\n",
        "plt.show()\n",
        "    \n",
        "print(\"n\",n)\n",
        "print(\"number of permutations n! =\",math.factorial(n)) \n",
        "print(\"exp min =\",min(times))\n",
        "print(\"min formula 5*n-4 =\",5*n-4)\n",
        "print(\"exp max =\",max(times))\n",
        "print(\"max formula 3/2*n**2+7/2*n-4 =\",3/2*n**2+7/2*n-4)\n",
        "print(\"exp mean =\",np.mean(times))\n",
        "print(\"mean formula 3/4*n**2+17/4*n-4 =\",3/4*n**2+17/4*n-4)\n",
        "print(\"stdev\",np.std(times))"
      ],
      "metadata": {
        "colab": {
          "base_uri": "https://localhost:8080/",
          "height": 451
        },
        "id": "u2RIrfUXy4Sc",
        "outputId": "2f800c42-dbd8-4c2d-cefc-02a47bae73a5"
      },
      "execution_count": 15,
      "outputs": [
        {
          "output_type": "display_data",
          "data": {
            "text/plain": [
              "<Figure size 432x288 with 1 Axes>"
            ],
            "image/png": "[encoded data removed]"
          },
          "metadata": {
            "needs_background": "light"
          }
        },
        {
          "output_type": "stream",
          "name": "stdout",
          "text": [
            "n 6\n",
            "number of permutations n! = 720\n",
            "exp min = 67\n",
            "min formula 5*n-4 = 26\n",
            "exp max = 111\n",
            "max formula 3/2*n**2+7/2*n-4 = 71.0\n",
            "exp mean = 91.05\n",
            "mean formula 3/4*n**2+17/4*n-4 = 48.5\n",
            "stdev 8.30145569563957\n"
          ]
        }
      ]
    },
    {
      "cell_type": "code",
      "source": [
        "from itertools import permutations\n",
        "import matplotlib.pyplot as plt\n",
        "import numpy as np\n",
        "import math\n",
        "\n",
        "n=7\n",
        "X = range(n)\n",
        "times = []\n",
        "\n",
        "for P in permutations(X):\n",
        "  t = heap_sort_steps(list(P)) \n",
        "  times.append(t)  \n",
        "\n",
        "b = np.array(range(min(times)-1, max(times)+1))+0.5\n",
        "plt.hist(times, bins = b )\n",
        "plt.title(\"Insetion Sort\")\n",
        "plt.xlabel(\"Steps\")\n",
        "plt.ylabel(\"Frequency\")\n",
        "plt.show()\n",
        "    \n",
        "print(\"n\",n)\n",
        "print(\"number of permutations n! =\",math.factorial(n)) \n",
        "print(\"exp min =\",min(times))\n",
        "print(\"min formula 5*n-4 =\",5*n-4)\n",
        "print(\"exp max =\",max(times))\n",
        "print(\"max formula 3/2*n**2+7/2*n-4 =\",3/2*n**2+7/2*n-4)\n",
        "print(\"exp mean =\",np.mean(times))\n",
        "print(\"mean formula 3/4*n**2+17/4*n-4 =\",3/4*n**2+17/4*n-4)\n",
        "print(\"stdev\",np.std(times))"
      ],
      "metadata": {
        "colab": {
          "base_uri": "https://localhost:8080/",
          "height": 451
        },
        "id": "Il6ZPKnsy7RM",
        "outputId": "85e05ce3-9fc0-4015-d34f-5a384ebf55f5"
      },
      "execution_count": 16,
      "outputs": [
        {
          "output_type": "display_data",
          "data": {
            "text/plain": [
              "<Figure size 432x288 with 1 Axes>"
            ],
            "image/png": "[encoded data removed]"
          },
          "metadata": {
            "needs_background": "light"
          }
        },
        {
          "output_type": "stream",
          "name": "stdout",
          "text": [
            "n 7\n",
            "number of permutations n! = 5040\n",
            "exp min = 79\n",
            "min formula 5*n-4 = 31\n",
            "exp max = 131\n",
            "max formula 3/2*n**2+7/2*n-4 = 94.0\n",
            "exp mean = 108.74404761904762\n",
            "mean formula 3/4*n**2+17/4*n-4 = 62.5\n",
            "stdev 8.85811686592759\n"
          ]
        }
      ]
    },
    {
      "cell_type": "code",
      "source": [
        "from itertools import permutations\n",
        "import matplotlib.pyplot as plt\n",
        "import numpy as np\n",
        "import math\n",
        "\n",
        "n=8\n",
        "X = range(n)\n",
        "times = []\n",
        "\n",
        "for P in permutations(X):\n",
        "  t = heap_sort_steps(list(P)) \n",
        "  times.append(t)  \n",
        "\n",
        "b = np.array(range(min(times)-1, max(times)+1))+0.5\n",
        "plt.hist(times, bins = b )\n",
        "plt.title(\"Insetion Sort\")\n",
        "plt.xlabel(\"Steps\")\n",
        "plt.ylabel(\"Frequency\")\n",
        "plt.show()\n",
        "    \n",
        "print(\"n\",n)\n",
        "print(\"number of permutations n! =\",math.factorial(n)) \n",
        "print(\"exp min =\",min(times))\n",
        "print(\"min formula 5*n-4 =\",5*n-4)\n",
        "print(\"exp max =\",max(times))\n",
        "print(\"max formula 3/2*n**2+7/2*n-4 =\",3/2*n**2+7/2*n-4)\n",
        "print(\"exp mean =\",np.mean(times))\n",
        "print(\"mean formula 3/4*n**2+17/4*n-4 =\",3/4*n**2+17/4*n-4)\n",
        "print(\"stdev\",np.std(times))"
      ],
      "metadata": {
        "colab": {
          "base_uri": "https://localhost:8080/",
          "height": 451
        },
        "id": "8OdBK3Fdy-EM",
        "outputId": "2099daa5-3a61-41d3-dc18-08e71aef3b7b"
      },
      "execution_count": 17,
      "outputs": [
        {
          "output_type": "display_data",
          "data": {
            "text/plain": [
              "<Figure size 432x288 with 1 Axes>"
            ],
            "image/png": "[encoded data removed]"
          },
          "metadata": {
            "needs_background": "light"
          }
        },
        {
          "output_type": "stream",
          "name": "stdout",
          "text": [
            "n 8\n",
            "number of permutations n! = 40320\n",
            "exp min = 103\n",
            "min formula 5*n-4 = 36\n",
            "exp max = 173\n",
            "max formula 3/2*n**2+7/2*n-4 = 120.0\n",
            "exp mean = 140.6625\n",
            "mean formula 3/4*n**2+17/4*n-4 = 78.0\n",
            "stdev 9.962796992247215\n"
          ]
        }
      ]
    },
    {
      "cell_type": "code",
      "source": [
        "from itertools import permutations\n",
        "import matplotlib.pyplot as plt\n",
        "import numpy as np\n",
        "import math\n",
        "\n",
        "n=9\n",
        "X = range(n)\n",
        "times = []\n",
        "\n",
        "for P in permutations(X):\n",
        "  t = heap_sort_steps(list(P)) \n",
        "  times.append(t)  \n",
        "\n",
        "b = np.array(range(min(times)-1, max(times)+1))+0.5\n",
        "plt.hist(times, bins = b )\n",
        "plt.title(\"Insetion Sort\")\n",
        "plt.xlabel(\"Steps\")\n",
        "plt.ylabel(\"Frequency\")\n",
        "plt.show()\n",
        "    \n",
        "print(\"n\",n)\n",
        "print(\"number of permutations n! =\",math.factorial(n)) \n",
        "print(\"exp min =\",min(times))\n",
        "print(\"min formula 5*n-4 =\",5*n-4)\n",
        "print(\"exp max =\",max(times))\n",
        "print(\"max formula 3/2*n**2+7/2*n-4 =\",3/2*n**2+7/2*n-4)\n",
        "print(\"exp mean =\",np.mean(times))\n",
        "print(\"mean formula 3/4*n**2+17/4*n-4 =\",3/4*n**2+17/4*n-4)\n",
        "print(\"stdev\",np.std(times))"
      ],
      "metadata": {
        "colab": {
          "base_uri": "https://localhost:8080/",
          "height": 451
        },
        "id": "XB5t0JbbzA00",
        "outputId": "c994ce26-0cd6-4017-eb05-3fef8c306bd5"
      },
      "execution_count": 18,
      "outputs": [
        {
          "output_type": "display_data",
          "data": {
            "text/plain": [
              "<Figure size 432x288 with 1 Axes>"
            ],
            "image/png": "[encoded data removed]"
          },
          "metadata": {
            "needs_background": "light"
          }
        },
        {
          "output_type": "stream",
          "name": "stdout",
          "text": [
            "n 9\n",
            "number of permutations n! = 362880\n",
            "exp min = 116\n",
            "min formula 5*n-4 = 41\n",
            "exp max = 199\n",
            "max formula 3/2*n**2+7/2*n-4 = 149.0\n",
            "exp mean = 163.64097222222222\n",
            "mean formula 3/4*n**2+17/4*n-4 = 95.0\n",
            "stdev 10.7820719979052\n"
          ]
        }
      ]
    },
    {
      "cell_type": "code",
      "source": [
        "from itertools import permutations\n",
        "import matplotlib.pyplot as plt\n",
        "import numpy as np\n",
        "import math\n",
        "\n",
        "n=10\n",
        "X = range(n)\n",
        "times = []\n",
        "\n",
        "for P in permutations(X):\n",
        "  t = heap_sort_steps(list(P)) \n",
        "  times.append(t) \n",
        "\n",
        "b = np.array(range(min(times)-1, max(times)+1))+0.5\n",
        "plt.hist(times, bins = b )\n",
        "plt.title(\"Insetion Sort\")\n",
        "plt.xlabel(\"Steps\")\n",
        "plt.ylabel(\"Frequency\")\n",
        "plt.show()\n",
        "    \n",
        "print(\"n\",n)\n",
        "print(\"number of permutations n! =\",math.factorial(n)) \n",
        "print(\"exp min =\",min(times))\n",
        "print(\"min formula 5*n-4 =\",5*n-4)\n",
        "print(\"exp max =\",max(times))\n",
        "print(\"max formula 3/2*n**2+7/2*n-4 =\",3/2*n**2+7/2*n-4)\n",
        "print(\"exp mean =\",np.mean(times))\n",
        "print(\"mean formula 3/4*n**2+17/4*n-4 =\",3/4*n**2+17/4*n-4)\n",
        "print(\"stdev\",np.std(times))"
      ],
      "metadata": {
        "colab": {
          "base_uri": "https://localhost:8080/",
          "height": 451
        },
        "id": "KJi1BvXRzDQm",
        "outputId": "94b2e658-fcf9-420c-9ee3-22eb0d7c7990"
      },
      "execution_count": 19,
      "outputs": [
        {
          "output_type": "display_data",
          "data": {
            "text/plain": [
              "<Figure size 432x288 with 1 Axes>"
            ],
            "image/png": "[encoded data removed]"
          },
          "metadata": {
            "needs_background": "light"
          }
        },
        {
          "output_type": "stream",
          "name": "stdout",
          "text": [
            "n 10\n",
            "number of permutations n! = 3628800\n",
            "exp min = 141\n",
            "min formula 5*n-4 = 46\n",
            "exp max = 236\n",
            "max formula 3/2*n**2+7/2*n-4 = 181.0\n",
            "exp mean = 194.96547619047618\n",
            "mean formula 3/4*n**2+17/4*n-4 = 113.5\n",
            "stdev 11.725749709708289\n"
          ]
        }
      ]
    },
    {
      "cell_type": "code",
      "source": [
        "from itertools import permutations\n",
        "import matplotlib.pyplot as plt\n",
        "import numpy as np\n",
        "import math\n",
        "\n",
        "n=11\n",
        "X = range(n)\n",
        "times = []\n",
        "\n",
        "for P in permutations(X):\n",
        "  t = heap_sort_steps(list(P)) \n",
        "  times.append(t)  \n",
        "\n",
        "b = np.array(range(min(times)-1, max(times)+1))+0.5\n",
        "plt.hist(times, bins = b )\n",
        "plt.title(\"Insetion Sort\")\n",
        "plt.xlabel(\"Steps\")\n",
        "plt.ylabel(\"Frequency\")\n",
        "plt.show()\n",
        "    \n",
        "print(\"n\",n)\n",
        "print(\"number of permutations n! =\",math.factorial(n)) \n",
        "print(\"exp min =\",min(times))\n",
        "print(\"min formula 5*n-4 =\",5*n-4)\n",
        "print(\"exp max =\",max(times))\n",
        "print(\"max formula 3/2*n**2+7/2*n-4 =\",3/2*n**2+7/2*n-4)\n",
        "print(\"exp mean =\",np.mean(times))\n",
        "print(\"mean formula 3/4*n**2+17/4*n-4 =\",3/4*n**2+17/4*n-4)\n",
        "print(\"stdev\",np.std(times))"
      ],
      "metadata": {
        "id": "GBIuLg8hzHXG"
      },
      "execution_count": null,
      "outputs": []
    },
    {
      "cell_type": "code",
      "source": [
        "# https://towardsdatascience.com/an-easy-introduction-to-3d-plotting-with-matplotlib-801561999725\n",
        "\n",
        "import numpy as np\n",
        "import matplotlib.pyplot as plt\n",
        "from mpl_toolkits import mplot3d\n",
        "\n",
        "fig = plt.figure()\n",
        "ax = plt.axes(projection=\"3d\")\n",
        "\n",
        "plt.show()"
      ],
      "metadata": {
        "id": "Uvf6RlWSzIZ8"
      },
      "execution_count": null,
      "outputs": []
    },
    {
      "cell_type": "code",
      "source": [
        "# https://stackoverflow.com/questions/24736758/parameters-required-by-bar3d-with-python\n",
        "\n",
        "import numpy as np\n",
        "import matplotlib.pyplot as plt\n",
        "from mpl_toolkits.mplot3d import Axes3D\n",
        "\n",
        "fig = plt.figure()\n",
        "ax = plt.axes(projection=\"3d\")\n",
        "\n",
        "x = [1, 2, 3, 10]  # x coordinates of each bar\n",
        "y = [0, 0, 0, 10] # y coordinates of each bar\n",
        "z = [0, 0, 0, 0]  # z coordinates of each bar\n",
        "dx = [0.5, 0.5, 0.5, 0.5]  # Width of each bar\n",
        "dy = [0.5, 0.5, 0.5, 0.5]  # Depth of each bar\n",
        "dz = [5, 4, 7, 3]        # Height of each bar\n",
        "\n",
        "ax.bar3d(x, y, z, dx, dy, dz, color='b', zsort='average')\n",
        "plt.show()"
      ],
      "metadata": {
        "id": "5G6arm0BzLSl"
      },
      "execution_count": null,
      "outputs": []
    },
    {
      "cell_type": "code",
      "source": [
        "# https://towardsdatascience.com/an-easy-introduction-to-3d-plotting-with-matplotlib-801561999725\n",
        "from itertools import permutations\n",
        "import numpy as np\n",
        "import matplotlib.pyplot as plt\n",
        "from mpl_toolkits.mplot3d import Axes3D\n",
        "import random \n",
        "\n",
        "fig = plt.figure()\n",
        "ax = plt.axes(projection=\"3d\")\n",
        "\n",
        "N = 10\n",
        "\n",
        "x = []\n",
        "y = []\n",
        "z = []\n",
        "dx = []\n",
        "dy = []\n",
        "dz = []\n",
        "\n",
        "for n in np.arange(3,N+1,1):\n",
        "   A = range(n)\n",
        "   times = []\n",
        "\n",
        "   for P in permutations(A):\n",
        "       t = heap_sort_steps(list(P)) \n",
        "       times.append(t)  \n",
        "\n",
        "   b = np.array(range(min(times)-1, max(times)+1))+0.5\n",
        "   H = np.array(np.histogram(times,b))\n",
        "   H[0] = H[0]/np.sum(H[0])\n",
        "   for i in range(len(H[0])):\n",
        "     x.append(n)\n",
        "     y.append(H[1][i])\n",
        "     z.append(0)\n",
        "     dx.append(0.1)\n",
        "     dy.append(0.1)\n",
        "     dz.append(H[0][i])\n",
        "\n",
        "ax.bar3d(x, y, z, dx, dy, dz, color='aqua', zsort='average')\n",
        "plt.show()"
      ],
      "metadata": {
        "id": "7v3X2CAjzOm0"
      },
      "execution_count": null,
      "outputs": []
    },
    {
      "cell_type": "code",
      "source": [
        "# https://towardsdatascience.com/an-easy-introduction-to-3d-plotting-with-matplotlib-801561999725\n",
        "from itertools import permutations\n",
        "import numpy as np\n",
        "import matplotlib.pyplot as plt\n",
        "from mpl_toolkits.mplot3d import Axes3D\n",
        "import random \n",
        "\n",
        "fig = plt.figure()\n",
        "ax = plt.axes(projection=\"3d\")\n",
        "\n",
        "N = 10\n",
        "\n",
        "x = []\n",
        "y = []\n",
        "z = []\n",
        "dx = []\n",
        "dy = []\n",
        "dz = []\n",
        "\n",
        "for n in np.arange(3,N+1,1):\n",
        "   A = range(n)\n",
        "   times = []\n",
        "\n",
        "   for P in permutations(A):\n",
        "       t = heap_sort_steps(list(P)) \n",
        "       times.append(t)  \n",
        "\n",
        "   b = np.array(range(min(times)-1, max(times)+1))+0.5\n",
        "   H = np.array(np.histogram(times,b))\n",
        "   H[0] = H[0]/np.sum(H[0])\n",
        "   for i in range(len(H[0])):\n",
        "     x.append(n)\n",
        "     y.append(H[1][i])\n",
        "     z.append(0)\n",
        "     dx.append(0.1)\n",
        "     dy.append(0.1)\n",
        "     dz.append(H[0][i])\n",
        "\n",
        "ax.view_init(30, 10)\n",
        "ax.bar3d(x, y, z, dx, dy, dz, color='aqua', zsort='average')\n",
        "plt.show()"
      ],
      "metadata": {
        "id": "Se2AJQeuzR4c"
      },
      "execution_count": null,
      "outputs": []
    },
    {
      "cell_type": "code",
      "source": [
        "import matplotlib.pyplot as plt\n",
        "import numpy as np\n",
        "\n",
        "n=3\n",
        "runs=1000\n",
        "times = []\n",
        "for r in range(1,runs+1): \n",
        "  P= np.random.permutation(n)\n",
        "  t = heap_sort_steps(P) \n",
        "  times.append(t)  \n",
        "\n",
        "b = np.array(range(min(times)-1, max(times)+1))+0.5\n",
        "plt.hist(times, bins = b )  \n",
        "plt.title(\"Insetion Sort\")\n",
        "plt.xlabel(\"Steps\")\n",
        "plt.ylabel(\"Frequency\")\n",
        "plt.show()\n",
        "    \n",
        "print(\"n\",n)\n",
        "print(\"runs\",runs)\n",
        "print(\"min\",min(times))\n",
        "print(\"min formula ,5*n-4 =\",5*n-4)\n",
        "print(\"max\",max(times))\n",
        "print(\"max formula 3/2*n**2+7/2*n-4 =\",3/2*n**2+7/2*n-4)\n",
        "print(\"mean\",np.mean(times))\n",
        "print(\"mean formula 3/4*n**2+17/4*n-4 = \",3/4*n**2+17/4*n-4)\n",
        "print(\"stdev\",np.std(times))"
      ],
      "metadata": {
        "id": "DkTkycWKzUxk"
      },
      "execution_count": null,
      "outputs": []
    },
    {
      "cell_type": "code",
      "source": [
        "import matplotlib.pyplot as plt\n",
        "import numpy as np\n",
        "\n",
        "n=4\n",
        "runs=10000\n",
        "times = []\n",
        "for r in range(1,runs+1): \n",
        "  P= np.random.permutation(n)\n",
        "  t = heap_sort_steps(P) \n",
        "  times.append(t)  \n",
        "\n",
        "b = np.array(range(min(times)-1, max(times)+1))+0.5\n",
        "plt.hist(times, bins = b )  \n",
        "plt.title(\"Insetion Sort\")\n",
        "plt.xlabel(\"Steps\")\n",
        "plt.ylabel(\"Frequency\")\n",
        "plt.show()\n",
        "    \n",
        "print(\"n\",n)\n",
        "print(\"runs\",runs)\n",
        "print(\"min\",min(times))\n",
        "print(\"min formula ,5*n-4 =\",5*n-4)\n",
        "print(\"max\",max(times))\n",
        "print(\"max formula 3/2*n**2+7/2*n-4 =\",3/2*n**2+7/2*n-4)\n",
        "print(\"mean\",np.mean(times))\n",
        "print(\"mean formula 3/4*n**2+17/4*n-4 = \",3/4*n**2+17/4*n-4)\n",
        "print(\"stdev\",np.std(times))"
      ],
      "metadata": {
        "id": "JbCBIzq3zXYk"
      },
      "execution_count": null,
      "outputs": []
    },
    {
      "cell_type": "code",
      "source": [
        "import matplotlib.pyplot as plt\n",
        "import numpy as np\n",
        "\n",
        "n=30\n",
        "runs=10000\n",
        "times = []\n",
        "for r in range(1,runs+1): \n",
        "  P= np.random.permutation(n)\n",
        "  t = heap_sort_steps(P) \n",
        "  times.append(t)  \n",
        "\n",
        "b = np.array(range(min(times)-1, max(times)+1))+0.5\n",
        "plt.hist(times, bins = b )  \n",
        "plt.title(\"Insetion Sort\")\n",
        "plt.xlabel(\"Steps\")\n",
        "plt.ylabel(\"Frequency\")\n",
        "plt.show()\n",
        "    \n",
        "print(\"n\",n)\n",
        "print(\"runs\",runs)\n",
        "print(\"min\",min(times))\n",
        "print(\"min formula ,5*n-4 =\",5*n-4)\n",
        "print(\"max\",max(times))\n",
        "print(\"max formula 3/2*n**2+7/2*n-4 =\",3/2*n**2+7/2*n-4)\n",
        "print(\"mean\",np.mean(times))\n",
        "print(\"mean formula 3/4*n**2+17/4*n-4 = \",3/4*n**2+17/4*n-4)\n",
        "print(\"stdev\",np.std(times))"
      ],
      "metadata": {
        "id": "EbMI51Njzepf"
      },
      "execution_count": null,
      "outputs": []
    },
    {
      "cell_type": "code",
      "source": [
        "import matplotlib.pyplot as plt\n",
        "import numpy as np\n",
        "\n",
        "n=100\n",
        "runs=100000\n",
        "times = []\n",
        "for r in range(1,runs+1): \n",
        "  P= np.random.permutation(n)\n",
        "  t = heap_sort_steps(P) \n",
        "  times.append(t)  \n",
        "\n",
        "b = np.array(range(min(times)-1, max(times)+1))+0.5\n",
        "plt.hist(times, bins = b )  \n",
        "plt.title(\"Insetion Sort\")\n",
        "plt.xlabel(\"Steps\")\n",
        "plt.ylabel(\"Frequency\")\n",
        "plt.show()\n",
        "    \n",
        "print(\"n\",n)\n",
        "print(\"runs\",runs)\n",
        "print(\"min\",min(times))\n",
        "print(\"min formula ,5*n-4 =\",5*n-4)\n",
        "print(\"max\",max(times))\n",
        "print(\"max formula 3/2*n**2+7/2*n-4 =\",3/2*n**2+7/2*n-4)\n",
        "print(\"mean\",np.mean(times))\n",
        "print(\"mean formula 3/4*n**2+17/4*n-4 = \",3/4*n**2+17/4*n-4)\n",
        "print(\"stdev\",np.std(times))"
      ],
      "metadata": {
        "id": "uteJPRZ1zfz0"
      },
      "execution_count": null,
      "outputs": []
    },
    {
      "cell_type": "code",
      "source": [
        "from itertools import product\n",
        "\n",
        "n=3 \n",
        "perm = product(range(1,n+1), repeat = n)\n",
        "\n",
        "c=0\n",
        "for i in perm:\n",
        "    print(i)\n",
        "    c+=1\n",
        "\n",
        "print(c)"
      ],
      "metadata": {
        "id": "JVOpKl0tziVU"
      },
      "execution_count": null,
      "outputs": []
    },
    {
      "cell_type": "code",
      "source": [
        "from itertools import product\n",
        "import matplotlib.pyplot as plt\n",
        "import numpy as np \n",
        "\n",
        "n = 3\n",
        " \n",
        "times = []\n",
        "for P in product(range(1,n+1), repeat = n):\n",
        "  t = heap_sort_steps(list(P)) \n",
        "  times.append(t)  \n",
        "\n",
        "b = np.array(range(min(times)-1, max(times)+1))+0.5\n",
        "plt.hist(times, bins = b )\n",
        "plt.title(\"Heap Sort\")\n",
        "plt.xlabel(\"Steps\")\n",
        "plt.ylabel(\"Frequency\")\n",
        "plt.show()\n",
        "    \n",
        "print(\"n\",n)\n",
        "print(\"number of permutations with repetion =\",n**n) \n",
        "print(\"exp min =\",min(times))\n",
        "print(\"min formula 5*n-4 =\",5*n-4)\n",
        "print(\"exp max =\",max(times))\n",
        "print(\"max formula 3/2*n**2+7/2*n-4 =\",3/2*n**2+7/2*n-4)\n",
        "print(\"exp mean =\",np.mean(times))\n",
        "print(\"mean formula 3/4*n**2+17/4*n-4 =\",3/4*n**2+17/4*n-4)\n",
        "print(\"stdev\",np.std(times))"
      ],
      "metadata": {
        "id": "7eq6SvMWzkxf"
      },
      "execution_count": null,
      "outputs": []
    },
    {
      "cell_type": "code",
      "source": [
        "from itertools import product\n",
        "import matplotlib.pyplot as plt\n",
        "import numpy as np \n",
        "\n",
        "n = 4\n",
        " \n",
        "times = []\n",
        "for P in product(range(1,n+1), repeat = n):\n",
        "  t = heap_sort_steps(list(P)) \n",
        "  times.append(t)  \n",
        "\n",
        "b = np.array(range(min(times)-1, max(times)+1))+0.5\n",
        "plt.hist(times, bins = b )\n",
        "plt.title(\"Insetion Sort\")\n",
        "plt.xlabel(\"Steps\")\n",
        "plt.ylabel(\"Frequency\")\n",
        "plt.show()\n",
        "    \n",
        "print(\"n\",n)\n",
        "print(\"number of permutations with repetion =\",n**n) \n",
        "print(\"exp min =\",min(times))\n",
        "print(\"min formula 5*n-4 =\",5*n-4)\n",
        "print(\"exp max =\",max(times))\n",
        "print(\"max formula 3/2*n**2+7/2*n-4 =\",3/2*n**2+7/2*n-4)\n",
        "print(\"exp mean =\",np.mean(times))\n",
        "print(\"mean formula 3/4*n**2+7/2*n-13/4 =\",3/4*n**2+7/2*n-13/4)\n",
        "print(\"stdev\",np.std(times))"
      ],
      "metadata": {
        "id": "8lTLeJ3kznU0"
      },
      "execution_count": null,
      "outputs": []
    },
    {
      "cell_type": "code",
      "source": [
        "from itertools import product\n",
        "import matplotlib.pyplot as plt\n",
        "import numpy as np \n",
        "\n",
        "n = 5\n",
        " \n",
        "times = []\n",
        "for P in product(range(1,n+1), repeat = n):\n",
        "  t = heap_sort_steps(list(P)) \n",
        "  times.append(t)  \n",
        "\n",
        "b = np.array(range(min(times)-1, max(times)+1))+0.5\n",
        "plt.hist(times, bins = b )\n",
        "plt.title(\"Insetion Sort\")\n",
        "plt.xlabel(\"Steps\")\n",
        "plt.ylabel(\"Frequency\")\n",
        "plt.show()\n",
        "    \n",
        "print(\"n\",n)\n",
        "print(\"number of permutations with repetion =\",n**n) \n",
        "print(\"exp min =\",min(times))\n",
        "print(\"min formula 5*n-4 =\",5*n-4)\n",
        "print(\"exp max =\",max(times))\n",
        "print(\"max formula 3/2*n**2+7/2*n-4 =\",3/2*n**2+7/2*n-4)\n",
        "print(\"exp mean =\",np.mean(times))\n",
        "print(\"mean formula 3/4*n**2+7/2*n-13/4 =\",3/4*n**2+7/2*n-13/4)\n",
        "print(\"stdev\",np.std(times))"
      ],
      "metadata": {
        "id": "SW9at4z7zqIM"
      },
      "execution_count": null,
      "outputs": []
    },
    {
      "cell_type": "code",
      "source": [
        "from itertools import product\n",
        "import matplotlib.pyplot as plt\n",
        "import numpy as np \n",
        "\n",
        "n = 6\n",
        " \n",
        "times = []\n",
        "for P in product(range(1,n+1), repeat = n):\n",
        "  t = heap_sort_steps(list(P)) \n",
        "  times.append(t)  \n",
        "\n",
        "b = np.array(range(min(times)-1, max(times)+1))+0.5\n",
        "plt.hist(times, bins = b )\n",
        "plt.title(\"Insetion Sort\")\n",
        "plt.xlabel(\"Steps\")\n",
        "plt.ylabel(\"Frequency\")\n",
        "plt.show()\n",
        "    \n",
        "print(\"n\",n)\n",
        "print(\"number of permutations with repetion =\",n**n) \n",
        "print(\"exp min =\",min(times))\n",
        "print(\"min formula 5*n-4 =\",5*n-4)\n",
        "print(\"exp max =\",max(times))\n",
        "print(\"max formula 3/2*n**2+7/2*n-4 =\",3/2*n**2+7/2*n-4)\n",
        "print(\"exp mean =\",np.mean(times))\n",
        "print(\"mean formula 3/4*n**2+7/2*n-13/4 =\",3/4*n**2+7/2*n-13/4)\n",
        "print(\"stdev\",np.std(times))"
      ],
      "metadata": {
        "id": "FJs-IFQJzsf0"
      },
      "execution_count": null,
      "outputs": []
    },
    {
      "cell_type": "code",
      "source": [
        "from itertools import product\n",
        "import matplotlib.pyplot as plt\n",
        "import numpy as np \n",
        "\n",
        "n = 7\n",
        " \n",
        "times = []\n",
        "for P in product(range(1,n+1), repeat = n):\n",
        "  t = heap_sort_steps(list(P)) \n",
        "  times.append(t)  \n",
        "\n",
        "b = np.array(range(min(times)-1, max(times)+1))+0.5\n",
        "plt.hist(times, bins = b )\n",
        "plt.title(\"Insetion Sort\")\n",
        "plt.xlabel(\"Steps\")\n",
        "plt.ylabel(\"Frequency\")\n",
        "plt.show()\n",
        "    \n",
        "print(\"n\",n)\n",
        "print(\"number of permutations with repetion =\",n**n) \n",
        "print(\"exp min =\",min(times))\n",
        "print(\"min formula 5*n-4 =\",5*n-4)\n",
        "print(\"exp max =\",max(times))\n",
        "print(\"max formula 3/2*n**2+7/2*n-4 =\",3/2*n**2+7/2*n-4)\n",
        "print(\"exp mean =\",np.mean(times))\n",
        "print(\"mean formula 3/4*n**2+7/2*n-13/4 =\",3/4*n**2+7/2*n-13/4)\n",
        "print(\"stdev\",np.std(times))"
      ],
      "metadata": {
        "id": "JgAMBB7izuve"
      },
      "execution_count": null,
      "outputs": []
    },
    {
      "cell_type": "code",
      "source": [
        "from itertools import product\n",
        "import matplotlib.pyplot as plt\n",
        "import numpy as np \n",
        "\n",
        "n = 8\n",
        " \n",
        "times = []\n",
        "for P in product(range(1,n+1), repeat = n):\n",
        "  t = heap_sort_steps(list(P)) \n",
        "  times.append(t)  \n",
        "\n",
        "b = np.array(range(min(times)-1, max(times)+1))+0.5\n",
        "plt.hist(times, bins = b )\n",
        "plt.title(\"Insetion Sort\")\n",
        "plt.xlabel(\"Steps\")\n",
        "plt.ylabel(\"Frequency\")\n",
        "plt.show()\n",
        "    \n",
        "print(\"n\",n)\n",
        "print(\"number of permutations with repetion =\",n**n) \n",
        "print(\"exp min =\",min(times))\n",
        "print(\"min formula 5*n-4 =\",5*n-4)\n",
        "print(\"exp max =\",max(times))\n",
        "print(\"max formula 3/2*n**2+7/2*n-4 =\",3/2*n**2+7/2*n-4)\n",
        "print(\"exp mean =\",np.mean(times))\n",
        "print(\"mean formula 3/4*n**2+7/2*n-13/4 =\",1/4*n**2+7/2*n-13/4)\n",
        "print(\"stdev\",np.std(times))"
      ],
      "metadata": {
        "id": "GFGBQqdgzxSv"
      },
      "execution_count": null,
      "outputs": []
    },
    {
      "cell_type": "code",
      "source": [
        "# https://towardsdatascience.com/an-easy-introduction-to-3d-plotting-with-matplotlib-801561999725\n",
        "from itertools import product\n",
        "import numpy as np\n",
        "import matplotlib.pyplot as plt\n",
        "from mpl_toolkits.mplot3d import Axes3D\n",
        "import random \n",
        "\n",
        "fig = plt.figure()\n",
        "ax = plt.axes(projection=\"3d\")\n",
        "\n",
        "N = 8\n",
        "\n",
        "x = []\n",
        "y = []\n",
        "z = []\n",
        "dx = []\n",
        "dy = []\n",
        "dz = []\n",
        "\n",
        "for n in np.arange(3,N+1,1):\n",
        "\n",
        "   times = []\n",
        "\n",
        "   for P in product(range(1,n+1), repeat = n):\n",
        "       t = heap_sort_steps(list(P)) \n",
        "       times.append(t)  \n",
        "\n",
        "   b = np.array(range(min(times)-1, max(times)+1))+0.5\n",
        "   H = np.array(np.histogram(times,b))\n",
        "   H[0] = H[0]/np.sum(H[0])\n",
        "   for i in range(len(H[0])):\n",
        "     x.append(n)\n",
        "     y.append(H[1][i])\n",
        "     z.append(0)\n",
        "     dx.append(0.1)\n",
        "     dy.append(0.1)\n",
        "     dz.append(H[0][i])\n",
        "\n",
        "ax.bar3d(x, y, z, dx, dy, dz, color='aqua', zsort='average')\n",
        "plt.show()"
      ],
      "metadata": {
        "id": "e38icQ78zzwP"
      },
      "execution_count": null,
      "outputs": []
    },
    {
      "cell_type": "code",
      "source": [
        "# https://towardsdatascience.com/an-easy-introduction-to-3d-plotting-with-matplotlib-801561999725\n",
        "from itertools import product\n",
        "import numpy as np\n",
        "import matplotlib.pyplot as plt\n",
        "from mpl_toolkits.mplot3d import Axes3D\n",
        "import random \n",
        "\n",
        "fig = plt.figure()\n",
        "ax = plt.axes(projection=\"3d\")\n",
        "\n",
        "N = 8\n",
        "\n",
        "x = []\n",
        "y = []\n",
        "z = []\n",
        "dx = []\n",
        "dy = []\n",
        "dz = []\n",
        "\n",
        "for n in np.arange(3,N+1,1):\n",
        "  \n",
        "   times = []\n",
        "\n",
        "   for P in product(range(1,n+1), repeat = n):\n",
        "       t = heap_sort_steps(list(P)) \n",
        "       times.append(t) \n",
        "\n",
        "   b = np.array(range(min(times)-1, max(times)+1))+0.5\n",
        "   H = np.array(np.histogram(times,b))\n",
        "   H[0] = H[0]/np.sum(H[0])\n",
        "   for i in range(len(H[0])):\n",
        "     x.append(n)\n",
        "     y.append(H[1][i])\n",
        "     z.append(0)\n",
        "     dx.append(0.1)\n",
        "     dy.append(0.1)\n",
        "     dz.append(H[0][i])\n",
        "\n",
        "ax.view_init(30, 10)\n",
        "ax.bar3d(x, y, z, dx, dy, dz, color='aqua', zsort='average')\n",
        "plt.show()"
      ],
      "metadata": {
        "id": "GjTH9Qrkz2oG"
      },
      "execution_count": null,
      "outputs": []
    },
    {
      "cell_type": "code",
      "source": [
        "# Average case on random uniform permtations with repetitions of  $n$   elements  $t_a(n) = \\frac{3}{4}n^2 + \\frac{7}{2}n -\\frac{13}{4}= \\Theta(n^2) $\n",
        "import numpy as np \n",
        "import pandas as pd\n",
        "import scipy.linalg as la\n",
        "\n",
        "n = np.array([3.0,4.0,5.0,6.0])    # Number n of sorted elments \n",
        "t = np.array([14.0,22.75,33.0,44.75]) # Average comparisons + swaps for the corresponding n \n",
        "\n",
        "data = pd.DataFrame({'n': n, 't': t})\n",
        "data"
      ],
      "metadata": {
        "id": "qW5KLnK9z6ud"
      },
      "execution_count": null,
      "outputs": []
    },
    {
      "cell_type": "code",
      "source": [
        "X = np.column_stack([n**0,n**1,n**2,n**3])\n",
        "a = la.solve(X,t)\n",
        "a"
      ],
      "metadata": {
        "id": "II02chEfz9Lf"
      },
      "execution_count": null,
      "outputs": []
    },
    {
      "cell_type": "code",
      "source": [
        "# Average case on random uniform permtations with repetitions of  $n$   elements  $t_a(n) = \\frac{3}{4}n^2 + \\frac{7}{2}n -\\frac{13}{4}= \\Theta(n^2) $\n",
        "import numpy as np \n",
        "import pandas as pd\n",
        "import scipy.linalg as la\n",
        "\n",
        "n = np.array([3.0,4.0,5.0])    # Number n of sorted elments \n",
        "t = np.array([14.0,22.75,33.0]) # Average comparisons + swaps for the corresponding n \n",
        "\n",
        "data = pd.DataFrame({'n': n, 't': t})\n",
        "data"
      ],
      "metadata": {
        "id": "mLNqd3MHz-wg"
      },
      "execution_count": null,
      "outputs": []
    }
  ]
}